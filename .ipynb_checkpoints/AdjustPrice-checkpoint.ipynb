{
 "cells": [
  {
   "cell_type": "code",
   "execution_count": 8,
   "id": "b99cdd98",
   "metadata": {},
   "outputs": [],
   "source": [
    "import numpy as np\n",
    "import pandas as pd\n"
   ]
  },
  {
   "cell_type": "code",
   "execution_count": 9,
   "id": "2dac0641",
   "metadata": {},
   "outputs": [],
   "source": [
    "Direction = \"D:\\\\Data\\\\adjust\\\\\"\n"
   ]
  },
  {
   "cell_type": "code",
   "execution_count": 10,
   "id": "83ed8fa5",
   "metadata": {},
   "outputs": [],
   "source": [
    "Price = pd.read_csv(Direction+'data.csv')\n"
   ]
  },
  {
   "cell_type": "code",
   "execution_count": 12,
   "id": "31460b0c",
   "metadata": {},
   "outputs": [],
   "source": [
    "Price.rename(columns = {'قيمت پاياني' : 'LastPrice', 'کد فارسي نماد' : 'PerasianNameOfCode',\n",
    "                        'تاريخ ميلادي' : 'GregorianDate', 'تاريخ' : 'Date', 'قيمت پاياني روز معاملاتي قبل' : 'LastPriceOfYesterday'},\n",
    "             inplace = True)"
   ]
  },
  {
   "cell_type": "code",
   "execution_count": 6,
   "id": "418fd458",
   "metadata": {},
   "outputs": [],
   "source": [
    "Price['Ratio'] =  Price['LastPrice']/ Price['LastPriceOfYesterday']\n",
    "GPrice = Price\n",
    "aa= Price.groupby('PerasianNameOfCode')\n",
    "ab = pd.DataFrame(aa['Ratio'].cumprod())\n",
    "ab = ab.reset_index()\n",
    "GPrice['Cumprod'] = ab['Ratio']\n",
    "aaa = Price.groupby('PerasianNameOfCode')\n",
    "prod = pd.DataFrame(aaa['Ratio'].prod())\n",
    "prod['LPrice'] = aaa['LastPrice'].last()\n",
    "prod.rename(columns = {'Ratio':'prod'}, inplace = True)\n",
    "prod = prod.reset_index()\n",
    "GPrice = pd.merge(GPrice, prod, on = 'PerasianNameOfCode', how = 'left')\n",
    "GPrice['Adjust'] = GPrice['LPrice']*(GPrice['Cumprod']/GPrice['prod'])\n"
   ]
  },
  {
   "cell_type": "code",
   "execution_count": null,
   "id": "9a6f07b6",
   "metadata": {},
   "outputs": [],
   "source": []
  }
 ],
 "metadata": {
  "kernelspec": {
   "display_name": "Python 3 (ipykernel)",
   "language": "python",
   "name": "python3"
  },
  "language_info": {
   "codemirror_mode": {
    "name": "ipython",
    "version": 3
   },
   "file_extension": ".py",
   "mimetype": "text/x-python",
   "name": "python",
   "nbconvert_exporter": "python",
   "pygments_lexer": "ipython3",
   "version": "3.9.12"
  }
 },
 "nbformat": 4,
 "nbformat_minor": 5
}
