{
  "nbformat": 4,
  "nbformat_minor": 0,
  "metadata": {
    "colab": {
      "provenance": [],
      "authorship_tag": "ABX9TyOh+BATcBIMP/OyvMfupHki",
      "include_colab_link": true
    },
    "kernelspec": {
      "name": "python3",
      "display_name": "Python 3"
    },
    "language_info": {
      "name": "python"
    }
  },
  "cells": [
    {
      "cell_type": "markdown",
      "metadata": {
        "id": "view-in-github",
        "colab_type": "text"
      },
      "source": [
        "<a href=\"https://colab.research.google.com/github/Xaleed/AdjustedPrice_P/blob/master/Untitled1.ipynb\" target=\"_parent\"><img src=\"https://colab.research.google.com/assets/colab-badge.svg\" alt=\"Open In Colab\"/></a>"
      ]
    },
    {
      "cell_type": "code",
      "execution_count": 2,
      "metadata": {
        "id": "hX-gxH3_NaZM"
      },
      "outputs": [],
      "source": [
        "import numpy as np\n",
        "import matplotlib.pyplot as plt"
      ]
    },
    {
      "cell_type": "markdown",
      "source": [
        "Define the prior, likelihood, and posterior function"
      ],
      "metadata": {
        "id": "6I75E_rJPyrD"
      }
    },
    {
      "cell_type": "code",
      "source": [
        "def prior(beta,b,a):\n",
        "  return((beta**(a-1)/b**a)*np.exp(-beta/b))#gamma(a,b)\n",
        "def likelihood(beta, T,s,n):\n",
        "  s_n = [(s[i]-n[i]*(beta))**2/n[i] for i in range(len(s))]\n",
        "  return((1/beta)**T*np.exp(-0.5*(1/beta)**2*(sum(s_n))))\n",
        "def posterior(beta,b,a,T,s,n):\n",
        "  return(prior(beta,b,a)*likelihood(beta, T,s,n))# postorior propoetional to prior times likelihood\n",
        "#Define the proposal distribution\n",
        "def proposal(beta, sigma):\n",
        "  return(np.random.normal(beta,sigma))\n",
        "#Set the number of iterations and the burn-in period\n",
        "n_iter = 200000\n",
        "burn_in = 1000\n",
        "#set initial value\n",
        "beta = 100\n",
        "# initialize an empty array to store the sample\n",
        "samples = np.zeros(n_iter)\n",
        "# generate a sample of 100\n",
        "np.random.seed(123)\n",
        "s = abs(np.random.uniform(200000,300000, 100))\n",
        "n = [1200- (-1)**np.random.binomial(200, 0.5, 1)[0]*np.random.binomial(200, 0.5, 1)[0] for i in range(len(s))]\n",
        "T = len(s)\n",
        "#proposal variance\n",
        "sigma = 25\n",
        "a = 2\n",
        "b = 10\n",
        "# run the M-H algorithm\n",
        "for i in range(n_iter):\n",
        "  #compute a new sample\n",
        "  beta_new = proposal(beta, sigma)\n",
        "  #compute the acceptance ratio\n",
        "  r = posterior(beta_new,b,a,T,s,n)/posterior(beta,b,a,T,s,n)\n",
        "  #generate a random number from uniform\n",
        "  u = np.random.uniform()\n",
        "  if (u<r)&(beta_new > 0):#accept\n",
        "    beta = beta_new\n",
        "  # elif (u<r)&(beta_new < 0):#accept\n",
        "  #   beta = beta-beta_new+beta\n",
        "  else:\n",
        "    beta = beta#reject\n",
        "  samples[i]=beta\n",
        "\n"
      ],
      "metadata": {
        "colab": {
          "base_uri": "https://localhost:8080/"
        },
        "id": "LbLSyJEkP9zn",
        "outputId": "387ec468-da3e-4561-8b02-4847a41709d4"
      },
      "execution_count": null,
      "outputs": [
        {
          "output_type": "stream",
          "name": "stderr",
          "text": [
            "<ipython-input-81-668671bb7535>:32: RuntimeWarning: invalid value encountered in scalar divide\n",
            "  r = posterior(beta_new,b,a,T,s,n)/posterior(beta,b,a,T,s,n)\n"
          ]
        }
      ]
    },
    {
      "cell_type": "code",
      "source": [
        "samples"
      ],
      "metadata": {
        "colab": {
          "base_uri": "https://localhost:8080/"
        },
        "id": "mvYuwTSlwRic",
        "outputId": "e2218bff-d541-4d12-a654-4ef5eddf334b"
      },
      "execution_count": 79,
      "outputs": [
        {
          "output_type": "execute_result",
          "data": {
            "text/plain": [
              "array([100., 100., 100., ..., 100., 100., 100.])"
            ]
          },
          "metadata": {},
          "execution_count": 79
        }
      ]
    },
    {
      "cell_type": "code",
      "source": [
        "plt.hist(samples, bins=20,density=True,label = \"Posterior samples\")"
      ],
      "metadata": {
        "colab": {
          "base_uri": "https://localhost:8080/",
          "height": 534
        },
        "id": "sGV-GciWdz2j",
        "outputId": "0b7412b7-eda7-4f02-c136-69b252781ea0"
      },
      "execution_count": 80,
      "outputs": [
        {
          "output_type": "execute_result",
          "data": {
            "text/plain": [
              "(array([ 0.,  0.,  0.,  0.,  0.,  0.,  0.,  0.,  0.,  0., 20.,  0.,  0.,\n",
              "         0.,  0.,  0.,  0.,  0.,  0.,  0.]),\n",
              " array([ 99.5 ,  99.55,  99.6 ,  99.65,  99.7 ,  99.75,  99.8 ,  99.85,\n",
              "         99.9 ,  99.95, 100.  , 100.05, 100.1 , 100.15, 100.2 , 100.25,\n",
              "        100.3 , 100.35, 100.4 , 100.45, 100.5 ]),\n",
              " <BarContainer object of 20 artists>)"
            ]
          },
          "metadata": {},
          "execution_count": 80
        },
        {
          "output_type": "display_data",
          "data": {
            "text/plain": [
              "<Figure size 640x480 with 1 Axes>"
            ],
            "image/png": "[encoded data removed]"
          },
          "metadata": {}
        }
      ]
    },
    {
      "cell_type": "code",
      "source": [
        "def poisson_bayes_setimator_gamma_prior(n,a,b):\n",
        "  return((1/(1+b))*(np.mean(n)+a))"
      ],
      "metadata": {
        "id": "p33-kH6Fg5QU"
      },
      "execution_count": 72,
      "outputs": []
    },
    {
      "cell_type": "code",
      "source": [
        "poisson_bayes_setimator_gamma_prior(n, 220,0.2)"
      ],
      "metadata": {
        "colab": {
          "base_uri": "https://localhost:8080/"
        },
        "id": "LXiZqh7z4lYl",
        "outputId": "1b436460-4035-4ffb-8bb6-6870e42e521c"
      },
      "execution_count": 66,
      "outputs": [
        {
          "output_type": "execute_result",
          "data": {
            "text/plain": [
              "1186.7"
            ]
          },
          "metadata": {},
          "execution_count": 66
        }
      ]
    },
    {
      "cell_type": "code",
      "source": [
        "np.mean(samples)"
      ],
      "metadata": {
        "colab": {
          "base_uri": "https://localhost:8080/"
        },
        "id": "KSNtchK-lKz5",
        "outputId": "2d7e1597-a3bb-444c-caf6-5ed5fb7799fd"
      },
      "execution_count": 67,
      "outputs": [
        {
          "output_type": "execute_result",
          "data": {
            "text/plain": [
              "1.0"
            ]
          },
          "metadata": {},
          "execution_count": 67
        }
      ]
    },
    {
      "cell_type": "code",
      "source": [
        "poisson_bayes_setimator_gamma_prior(n, 220,0.2)*np.mean(samples)"
      ],
      "metadata": {
        "colab": {
          "base_uri": "https://localhost:8080/"
        },
        "id": "a7KpduCqllPy",
        "outputId": "394adbc1-2aff-41ea-cb9a-678b57534839"
      },
      "execution_count": 68,
      "outputs": [
        {
          "output_type": "execute_result",
          "data": {
            "text/plain": [
              "1186.7"
            ]
          },
          "metadata": {},
          "execution_count": 68
        }
      ]
    },
    {
      "cell_type": "code",
      "source": [
        "s"
      ],
      "metadata": {
        "colab": {
          "base_uri": "https://localhost:8080/"
        },
        "id": "hMlRAPd2ntsZ",
        "outputId": "4dde543e-a4e6-42e2-b318-f19441ca2895"
      },
      "execution_count": 61,
      "outputs": [
        {
          "output_type": "execute_result",
          "data": {
            "text/plain": [
              "array([269646.91855979, 228613.93349504, 222685.14535642, 255131.47690829,\n",
              "       271946.89697856, 242310.64601245, 298076.41983846, 268482.97385849,\n",
              "       248093.19014844, 239211.75181942, 234317.80161509, 272904.9707384 ,\n",
              "       243857.22446796, 205967.78966096, 239804.42553304, 273799.5405732 ,\n",
              "       218249.17304535, 217545.17561475, 253155.13738418, 253182.75870969,\n",
              "       263440.09585513, 284943.17940778, 272445.53248606, 261102.35106776,\n",
              "       272244.33825702, 232295.89138532, 236178.86556223, 222826.3230879 ,\n",
              "       229371.40463888, 263097.61238545, 209210.49399451, 243370.11726795,\n",
              "       243086.27633296, 249368.50976503, 242583.02902958, 231226.12229725,\n",
              "       242635.13069628, 289338.91631171, 294416.00182039, 250183.66758843,\n",
              "       262395.29517921, 211561.83950793, 231728.54818203, 241482.62119536,\n",
              "       286630.91578834, 225045.53653965, 248303.42642627, 298555.97856107,\n",
              "       251948.51192598, 261289.4525763 , 212062.86659903, 282634.08005068,\n",
              "       260306.01284109, 254506.80064665, 234276.38337743, 230412.07890272,\n",
              "       241702.22110247, 268130.07657928, 287545.68417952, 251042.2337478 ,\n",
              "       266931.37829623, 258593.65525622, 262490.35020956, 267468.90509878,\n",
              "       284234.24376203, 208319.49883324, 276368.28414433, 224366.63745369,\n",
              "       219422.29605788, 257245.69574915, 209571.25166124, 288532.68262751,\n",
              "       262724.89720513, 272341.635819  , 201612.9206695 , 259443.1879445 ,\n",
              "       255678.51923943, 215895.96441447, 215307.05151248, 269552.95287709,\n",
              "       231876.64263819, 269197.02955318, 255438.32497178, 238895.05741231,\n",
              "       292513.2489614 , 284166.99969127, 235739.75666832, 204359.1463799 ,\n",
              "       230476.80734111, 239818.5681918 , 270495.88304514, 299535.8482034 ,\n",
              "       235591.48657175, 276254.78137854, 259317.69165622, 269170.17987002,\n",
              "       215112.74523481, 239887.62927262, 224085.58977236, 234345.60140483])"
            ]
          },
          "metadata": {},
          "execution_count": 61
        }
      ]
    },
    {
      "cell_type": "code",
      "source": [],
      "metadata": {
        "id": "0MABiSnMcYe6"
      },
      "execution_count": null,
      "outputs": []
    }
  ]
}