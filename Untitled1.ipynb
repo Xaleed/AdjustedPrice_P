{
  "nbformat": 4,
  "nbformat_minor": 0,
  "metadata": {
    "colab": {
      "provenance": [],
      "authorship_tag": "ABX9TyP7e/nMe8kXRHcUxPXuwLbJ",
      "include_colab_link": true
    },
    "kernelspec": {
      "name": "python3",
      "display_name": "Python 3"
    },
    "language_info": {
      "name": "python"
    }
  },
  "cells": [
    {
      "cell_type": "markdown",
      "metadata": {
        "id": "view-in-github",
        "colab_type": "text"
      },
      "source": [
        "<a href=\"https://colab.research.google.com/github/Xaleed/AdjustedPrice_P/blob/master/Untitled1.ipynb\" target=\"_parent\"><img src=\"https://colab.research.google.com/assets/colab-badge.svg\" alt=\"Open In Colab\"/></a>"
      ]
    },
    {
      "cell_type": "code",
      "execution_count": 1,
      "metadata": {
        "id": "hX-gxH3_NaZM"
      },
      "outputs": [],
      "source": [
        "import numpy as np\n",
        "import matplotlib.pyplot as plt"
      ]
    },
    {
      "cell_type": "markdown",
      "source": [
        "Define the prior, likelihood, and posterior function"
      ],
      "metadata": {
        "id": "6I75E_rJPyrD"
      }
    },
    {
      "cell_type": "code",
      "source": [
        "def prior(beta,b,a):\n",
        "  return((beta**(a-1)/b**a)*np.exp(-beta/b))#gamma(a,b)\n",
        "def likelihood(beta, T,s,n):\n",
        "  s_n = [s[i]/n[i]-2*s[i]*beta for i in range(len(s))]\n",
        "  return(beta**T*np.exp(0.5*(beta**2*sum(s_n))))\n",
        "def posterior(beta,b,a,T,s,n):\n",
        "  return(prior(beta,b,a)*kelihood(beta, T,s,n))# postorior propoetional to prior times likelihood\n"
      ],
      "metadata": {
        "id": "LbLSyJEkP9zn"
      },
      "execution_count": 4,
      "outputs": []
    },
    {
      "cell_type": "code",
      "source": [
        "s = [1,2,3]\n",
        "n=[3,2,1]\n",
        "s_n = [s[i]/n[i] for i in range(len(s))]\n",
        "sum(s_n)"
      ],
      "metadata": {
        "colab": {
          "base_uri": "https://localhost:8080/"
        },
        "id": "VUQqDDiuXmbJ",
        "outputId": "c466245c-968f-4d91-ecb9-74de4ad68072"
      },
      "execution_count": 3,
      "outputs": [
        {
          "output_type": "execute_result",
          "data": {
            "text/plain": [
              "4.333333333333333"
            ]
          },
          "metadata": {},
          "execution_count": 3
        }
      ]
    },
    {
      "cell_type": "code",
      "source": [],
      "metadata": {
        "id": "4P4IdycKX0IU"
      },
      "execution_count": null,
      "outputs": []
    }
  ]
}